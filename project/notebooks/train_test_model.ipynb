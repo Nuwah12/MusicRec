{
 "cells": [
  {
   "cell_type": "code",
   "execution_count": 1,
   "id": "c8287745",
   "metadata": {},
   "outputs": [],
   "source": [
    "import spotipy\n",
    "from spotipy.oauth2 import SpotifyClientCredentials\n",
    "from spotipy.oauth2 import SpotifyOAuth\n",
    "import spotipy.util as util\n",
    "\n",
    "import pandas as pd\n",
    "pd.set_option('display.max_rows', 1000)\n",
    "import numpy as np\n",
    "import seaborn as sns\n",
    "\n",
    "import logging\n",
    "\n",
    "from sklearn.cluster import KMeans"
   ]
  },
  {
   "cell_type": "code",
   "execution_count": 2,
   "id": "617229b8",
   "metadata": {},
   "outputs": [],
   "source": [
    "### Set up API auth\n",
    "cid = '8bdd55c606af499581a2f6fa6619b956' #client ID\n",
    "secret = '687bddf834984225abd085ac6f0dfd41' #secret\n",
    "user = 'gza59mo1lxjaokuzj5752p5m9'\n",
    "scope = \"user-library-read\"\n",
    "sp = spotipy.Spotify(auth_manager=SpotifyOAuth(cid, secret, scope=scope, redirect_uri='http://localhost:8000'))"
   ]
  },
  {
   "cell_type": "code",
   "execution_count": null,
   "id": "c9dac7f1",
   "metadata": {},
   "outputs": [],
   "source": [
    "# Get songs from playlist URI and user name\n",
    "def get_songs_from_playlistURL(plURL, user, sp):\n",
    "    track_ids = []\n",
    "    track_names = []\n",
    "    tracks = sp.user_playlist(user, plURL)['tracks']['items']\n",
    "\n",
    "    for i in range(0, len(tracks)):\n",
    "        track_ids.append(tracks[i]['track']['id'])\n",
    "        track_names.append(tracks[i]['track']['name'])\n",
    "\n",
    "    all_songs = pd.DataFrame({'id': track_ids, 'names': track_names})\n",
    "    song_names = all_songs['names']\n",
    "    return all_songs\n",
    "# Get song feautures\n",
    "def get_song_features(all_songs, sp):\n",
    "    features_df = pd.DataFrame()\n",
    "    for i in range(0, len(all_songs)):\n",
    "        audio_features = sp.audio_features(all_songs.loc[i, 'id'])\n",
    "        af = pd.DataFrame(audio_features)\n",
    "        \n",
    "        features_df = pd.concat([features_df, af])\n",
    "    features_df.set_index('id', inplace = True)\n",
    "    features_df.drop(['key', 'type', 'mode', 'uri', 'track_href', 'analysis_url', 'time_signature', 'duration_ms'], axis=1, inplace=True)\n",
    "    return features_df\n",
    "# Print results\n",
    "def print_crossval_param_scores(grid_result):\n",
    "    print(\"Best: %f using %s\" % (grid_result.best_score_, grid_result.best_params_))\n",
    "    means = grid_result.cv_results_['mean_test_score']\n",
    "    stds = grid_result.cv_results_['std_test_score']\n",
    "    params = grid_result.cv_results_['params']\n",
    "    for mean, stdev, param in zip(means, stds, params):\n",
    "        print(\"%f (%f) with: %r\" % (mean, stdev, param))"
   ]
  },
  {
   "cell_type": "code",
   "execution_count": null,
   "id": "8cd18798",
   "metadata": {},
   "outputs": [],
   "source": [
    "### Construct an example training set:\n",
    "# Get spotify playlist of genres user would NOT like\n",
    "#i.e. Christian, Classical, and Rap \n",
    "\n",
    "# Get a Christian playlist\n",
    "christian_rock_songs = get_songs_from_playlistURL('https://open.spotify.com/playlist/30wdzfOKmW7JmLPiQI0BGC?si=ddfbb1ce031b49ef',\n",
    "                                                  'gza59mo1lxjaokuzj5752p5m9',\n",
    "                                                 sp)\n",
    "print(len(christian_rock_songs))\n",
    "# Get a Classical playlist \n",
    "classical_songs = get_songs_from_playlistURL('https://open.spotify.com/playlist/27Zm1P410dPfedsdoO9fqm?si=483250c08cd64782',\n",
    "                                            'gza59mo1lxjaokuzj5752p5m9',\n",
    "                                            sp)\n",
    "print(len(classical_songs))\n",
    "# Get a Rap playlist \n",
    "rap_songs = get_songs_from_playlistURL('https://open.spotify.com/playlist/4riovLwMCrY3q0Cd4e0Sqp?si=42c183a75939403b',\n",
    "                                      'gza59mo1lxjaokuzj5752p5m9',\n",
    "                                      sp)\n",
    "print(len(rap_songs))\n",
    "# Combine all \n",
    "not_liked_songs = pd.concat([christian_rock_songs, classical_songs, rap_songs])\n",
    "not_liked_songs.reset_index(inplace = True)\n",
    "not_liked_songs"
   ]
  },
  {
   "cell_type": "code",
   "execution_count": null,
   "id": "5ade0a3d",
   "metadata": {},
   "outputs": [],
   "source": [
    "# Training set data cleaning\n",
    "##### Get all not-liked song features\n",
    "not_liked_features = get_song_features(not_liked_songs, sp)\n",
    "# Drop unnecessary columns\n",
    "not_liked_features.drop(['key', 'type', 'mode', 'uri', 'track_href', 'analysis_url', 'time_signature'], axis=1, inplace = True)\n",
    "\n",
    "# get songs that user does like\n",
    "liked_songs = get_songs_from_playlistURL('https://open.spotify.com/playlist/5G5zCN9WRAi8EQtabAjGHg?si=22288fe4f0de40dd',\n",
    "                                         'gza59mo1lxjaokuzj5752p5m9',\n",
    "                                         sp)\n",
    "liked_song_features = get_song_features(liked_songs, sp)\n",
    "liked_song_features.drop(['key', 'type', 'mode', 'uri', 'track_href', 'analysis_url', 'time_signature'], axis=1, inplace = True)"
   ]
  },
  {
   "cell_type": "markdown",
   "id": "cdf6a3e1",
   "metadata": {},
   "source": [
    "## Normalzation (Standardization)"
   ]
  },
  {
   "cell_type": "code",
   "execution_count": null,
   "id": "02812ce1",
   "metadata": {},
   "outputs": [],
   "source": [
    "# Standardize data\n",
    "from sklearn.preprocessing import StandardScaler\n",
    "std_scaler = StandardScaler()\n",
    "std_scaler.fit(X)\n",
    "X = std_scaler.transform(X)"
   ]
  },
  {
   "cell_type": "markdown",
   "id": "29d4d703",
   "metadata": {},
   "source": [
    "## Classification\n",
    "#### First, test a naive classifier that guesses the majority class for all instances (0)\n",
    "#### Then, use train random forest on constructed training set"
   ]
  },
  {
   "cell_type": "code",
   "execution_count": null,
   "id": "bcc86608",
   "metadata": {},
   "outputs": [],
   "source": [
    "### For tuning hyperparameters and model training:\n",
    "from sklearn.model_selection import RepeatedStratifiedKFold\n",
    "from sklearn.model_selection import GridSearchCV\n",
    "### Random Forest\n",
    "from sklearn.ensemble import RandomForestClassifier\n",
    "rfc = RandomForestClassifier()\n",
    "\n",
    "# Tuning hyperparameters:\n",
    "n_estimators = [10, 100, 1000]\n",
    "max_features = ['sqrt', 'log2']\n",
    "\n",
    "grid = dict(n_estimators=n_estimators, max_features=max_features)\n",
    "\n",
    "cv = RepeatedStratifiedKFold(n_splits = 10, n_repeats = 3, random_state = 1)\n",
    "grid_search = GridSearchCV(estimator = rfc, param_grid = grid, n_jobs = -1, cv = cv, scoring = 'f1_micro', error_score=0)\n",
    "grid_result = grid_search.fit(X, y)\n",
    "\n",
    "print_crossval_param_scores(grid_result)\n",
    "#0.9405"
   ]
  }
 ],
 "metadata": {
  "kernelspec": {
   "display_name": "Python 3 (ipykernel)",
   "language": "python",
   "name": "python3"
  },
  "language_info": {
   "codemirror_mode": {
    "name": "ipython",
    "version": 3
   },
   "file_extension": ".py",
   "mimetype": "text/x-python",
   "name": "python",
   "nbconvert_exporter": "python",
   "pygments_lexer": "ipython3",
   "version": "3.11.0"
  }
 },
 "nbformat": 4,
 "nbformat_minor": 5
}
